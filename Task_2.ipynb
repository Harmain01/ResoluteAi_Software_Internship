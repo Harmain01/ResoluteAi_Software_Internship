{
  "nbformat": 4,
  "nbformat_minor": 0,
  "metadata": {
    "colab": {
      "provenance": [],
      "mount_file_id": "1o6ARkfwxAl9SthISfwx2xhHr43XJU9lU",
      "authorship_tag": "ABX9TyOAxo1lTFhyM+bUHxWVxACe",
      "include_colab_link": true
    },
    "kernelspec": {
      "name": "python3",
      "display_name": "Python 3"
    },
    "language_info": {
      "name": "python"
    }
  },
  "cells": [
    {
      "cell_type": "markdown",
      "metadata": {
        "id": "view-in-github",
        "colab_type": "text"
      },
      "source": [
        "<a href=\"https://colab.research.google.com/github/Rakeen-Harmain/ResoluteAi_Software_Internship/blob/main/Task_2.ipynb\" target=\"_parent\"><img src=\"https://colab.research.google.com/assets/colab-badge.svg\" alt=\"Open In Colab\"/></a>"
      ]
    },
    {
      "cell_type": "code",
      "execution_count": null,
      "metadata": {
        "colab": {
          "base_uri": "https://localhost:8080/"
        },
        "id": "nH9N41nHq1MO",
        "outputId": "46e54c25-2033-487c-bf03-9a46c0177e13"
      },
      "outputs": [
        {
          "output_type": "stream",
          "name": "stdout",
          "text": [
            "20.5\n"
          ]
        },
        {
          "output_type": "execute_result",
          "data": {
            "text/plain": [
              "float"
            ]
          },
          "metadata": {},
          "execution_count": 2
        }
      ],
      "source": [
        "a=20.5\n",
        "print(a)\n",
        "type(a)\n"
      ]
    },
    {
      "cell_type": "code",
      "source": [
        "b=4+6j\n",
        "type(b)"
      ],
      "metadata": {
        "colab": {
          "base_uri": "https://localhost:8080/"
        },
        "id": "E32I73wjrScx",
        "outputId": "f382577a-c9a0-4a60-d980-07bc399025ec"
      },
      "execution_count": null,
      "outputs": [
        {
          "output_type": "execute_result",
          "data": {
            "text/plain": [
              "complex"
            ]
          },
          "metadata": {},
          "execution_count": 3
        }
      ]
    },
    {
      "cell_type": "code",
      "source": [
        "c=4\n",
        "print(type(c))\n",
        "d=complex(a,c)\n",
        "print(d)"
      ],
      "metadata": {
        "colab": {
          "base_uri": "https://localhost:8080/"
        },
        "id": "bIhjhic-rfPe",
        "outputId": "1e444a4d-bbf8-4f54-d838-f240668e0547"
      },
      "execution_count": null,
      "outputs": [
        {
          "output_type": "stream",
          "name": "stdout",
          "text": [
            "<class 'int'>\n",
            "(20.5+4j)\n"
          ]
        }
      ]
    },
    {
      "cell_type": "code",
      "source": [
        "l=[25,65,55,87]\n",
        "print(l)\n",
        "print(type(l))"
      ],
      "metadata": {
        "colab": {
          "base_uri": "https://localhost:8080/"
        },
        "id": "0lFgCJ1br1N5",
        "outputId": "750e643a-5db1-4f19-ba81-c559233d52d7"
      },
      "execution_count": null,
      "outputs": [
        {
          "output_type": "stream",
          "name": "stdout",
          "text": [
            "[25, 65, 55, 87]\n",
            "<class 'list'>\n"
          ]
        }
      ]
    },
    {
      "cell_type": "code",
      "source": [
        "set={5,6,8,6}\n",
        "print(set)\n",
        "print(type(set))"
      ],
      "metadata": {
        "colab": {
          "base_uri": "https://localhost:8080/"
        },
        "id": "aG7Fh8a8r9AY",
        "outputId": "d33ac1d1-3153-4eb7-83aa-6460264f97a9"
      },
      "execution_count": null,
      "outputs": [
        {
          "output_type": "stream",
          "name": "stdout",
          "text": [
            "{8, 5, 6}\n",
            "<class 'set'>\n"
          ]
        }
      ]
    },
    {
      "cell_type": "code",
      "source": [
        "tuple=(57,87,98)\n",
        "print(tuple)\n",
        "print(type(tuple))"
      ],
      "metadata": {
        "colab": {
          "base_uri": "https://localhost:8080/"
        },
        "id": "w-nWTmgisHsj",
        "outputId": "ed01c679-4e27-4afa-e7ed-05029199eb0d"
      },
      "execution_count": null,
      "outputs": [
        {
          "output_type": "stream",
          "name": "stdout",
          "text": [
            "(57, 87, 98)\n",
            "<class 'tuple'>\n"
          ]
        }
      ]
    },
    {
      "cell_type": "code",
      "source": [
        "z=\"rakeen\"\n",
        "print(z)"
      ],
      "metadata": {
        "colab": {
          "base_uri": "https://localhost:8080/"
        },
        "id": "BvUaDQZgsPDp",
        "outputId": "9ba78957-e722-4448-b18c-3b9e40974fbc"
      },
      "execution_count": null,
      "outputs": [
        {
          "output_type": "stream",
          "name": "stdout",
          "text": [
            "rakeen\n"
          ]
        }
      ]
    },
    {
      "cell_type": "code",
      "source": [
        "range(10)\n",
        "list(range(10))\n"
      ],
      "metadata": {
        "colab": {
          "base_uri": "https://localhost:8080/"
        },
        "id": "sqKEYrNWsgFB",
        "outputId": "c1e2b068-4e7e-443c-a3c1-03bf8c3d98ec"
      },
      "execution_count": null,
      "outputs": [
        {
          "output_type": "execute_result",
          "data": {
            "text/plain": [
              "[0, 1, 2, 3, 4, 5, 6, 7, 8, 9]"
            ]
          },
          "metadata": {},
          "execution_count": 11
        }
      ]
    },
    {
      "cell_type": "code",
      "source": [
        "dic={'rak':'een'}\n",
        "print(dic.keys())\n",
        "print(dic.values())\n",
        "print(dic['rak'])"
      ],
      "metadata": {
        "colab": {
          "base_uri": "https://localhost:8080/"
        },
        "id": "agAO7bTzsn5n",
        "outputId": "81e63190-3c67-4338-e71a-5484c83a4507"
      },
      "execution_count": null,
      "outputs": [
        {
          "output_type": "stream",
          "name": "stdout",
          "text": [
            "dict_keys(['rak'])\n",
            "dict_values(['een'])\n",
            "een\n"
          ]
        }
      ]
    },
    {
      "cell_type": "code",
      "source": [
        "a,b=5,6\n",
        "print(a+b)\n",
        "a+=5\n",
        "print(a+b)\n",
        "b=-b\n",
        "print(a+b)"
      ],
      "metadata": {
        "colab": {
          "base_uri": "https://localhost:8080/"
        },
        "id": "SRSegJU2su5z",
        "outputId": "c086c6cc-2472-4fff-e662-59dfa22d1b72"
      },
      "execution_count": null,
      "outputs": [
        {
          "output_type": "stream",
          "name": "stdout",
          "text": [
            "11\n",
            "16\n",
            "4\n"
          ]
        }
      ]
    },
    {
      "cell_type": "code",
      "source": [
        "c,d=6,7\n",
        "print(c==d)\n",
        "print(c>=d)\n",
        "print(c<=d)"
      ],
      "metadata": {
        "colab": {
          "base_uri": "https://localhost:8080/"
        },
        "id": "aMvbmafctbNp",
        "outputId": "9c1b4c8e-8e19-482d-d05e-17c7382084a0"
      },
      "execution_count": null,
      "outputs": [
        {
          "output_type": "stream",
          "name": "stdout",
          "text": [
            "False\n",
            "False\n",
            "True\n"
          ]
        }
      ]
    },
    {
      "cell_type": "code",
      "source": [
        "print(bin(25))\n",
        "print(0b101)"
      ],
      "metadata": {
        "colab": {
          "base_uri": "https://localhost:8080/"
        },
        "id": "h-IYsh1NtoOL",
        "outputId": "0ac30c52-532c-4b40-808e-a9d908ead27c"
      },
      "execution_count": null,
      "outputs": [
        {
          "output_type": "stream",
          "name": "stdout",
          "text": [
            "0b11001\n",
            "5\n"
          ]
        }
      ]
    },
    {
      "cell_type": "code",
      "source": [
        "print(oct(33))\n",
        "print(hex(50))\n",
        "print(0xf)\n",
        "print(hex(11))\n",
        "print(0b110110)"
      ],
      "metadata": {
        "colab": {
          "base_uri": "https://localhost:8080/"
        },
        "id": "8qJDJH6Ut3Zu",
        "outputId": "59973147-d616-41a5-ae1f-f29266593d13"
      },
      "execution_count": null,
      "outputs": [
        {
          "output_type": "stream",
          "name": "stdout",
          "text": [
            "0o41\n",
            "0x32\n",
            "15\n",
            "0xb\n",
            "54\n"
          ]
        }
      ]
    },
    {
      "cell_type": "code",
      "source": [
        "~112"
      ],
      "metadata": {
        "colab": {
          "base_uri": "https://localhost:8080/"
        },
        "id": "fen_NU5KuTrX",
        "outputId": "64761f9d-8d6f-4f6d-ac1a-1c587dc815fa"
      },
      "execution_count": null,
      "outputs": [
        {
          "output_type": "execute_result",
          "data": {
            "text/plain": [
              "-113"
            ]
          },
          "metadata": {},
          "execution_count": 23
        }
      ]
    },
    {
      "cell_type": "code",
      "source": [
        "25|30"
      ],
      "metadata": {
        "colab": {
          "base_uri": "https://localhost:8080/"
        },
        "id": "Ag_9F5nauWXP",
        "outputId": "f8b746fa-2501-4643-b312-016819e217f4"
      },
      "execution_count": null,
      "outputs": [
        {
          "output_type": "execute_result",
          "data": {
            "text/plain": [
              "31"
            ]
          },
          "metadata": {},
          "execution_count": 24
        }
      ]
    },
    {
      "cell_type": "code",
      "source": [
        "25&55"
      ],
      "metadata": {
        "colab": {
          "base_uri": "https://localhost:8080/"
        },
        "id": "O5PfsB9Eucxv",
        "outputId": "b2cfd9e5-c776-4370-d352-d3b38fd0368f"
      },
      "execution_count": null,
      "outputs": [
        {
          "output_type": "execute_result",
          "data": {
            "text/plain": [
              "17"
            ]
          },
          "metadata": {},
          "execution_count": 25
        }
      ]
    },
    {
      "cell_type": "code",
      "source": [
        "25^55"
      ],
      "metadata": {
        "colab": {
          "base_uri": "https://localhost:8080/"
        },
        "id": "BDxVcpk5ufbg",
        "outputId": "45f49272-06e1-44b0-ecf2-0fc84fd5a9d6"
      },
      "execution_count": null,
      "outputs": [
        {
          "output_type": "execute_result",
          "data": {
            "text/plain": [
              "46"
            ]
          },
          "metadata": {},
          "execution_count": 26
        }
      ]
    },
    {
      "cell_type": "code",
      "source": [
        "a=input(\"enter a\")\n",
        "b=input(\"enter b\")\n",
        "c=a+b\n",
        "print(c)"
      ],
      "metadata": {
        "colab": {
          "base_uri": "https://localhost:8080/"
        },
        "id": "sFrZ_Cyaui06",
        "outputId": "f8027abc-e2fc-4e4a-d85d-ae2e0d43befe"
      },
      "execution_count": null,
      "outputs": [
        {
          "output_type": "stream",
          "name": "stdout",
          "text": [
            "enter a5\n",
            "enter b5\n",
            "55\n"
          ]
        }
      ]
    },
    {
      "cell_type": "code",
      "source": [
        "a=int(input(\"enter a\"))\n",
        "b=int(input(\"enter b\"))\n",
        "c=a+b\n",
        "print(c)"
      ],
      "metadata": {
        "colab": {
          "base_uri": "https://localhost:8080/"
        },
        "id": "UHMdRSe6unYU",
        "outputId": "9371cb63-09ba-47c9-ec26-cede7ef0427e"
      },
      "execution_count": null,
      "outputs": [
        {
          "output_type": "stream",
          "name": "stdout",
          "text": [
            "enter a55\n",
            "enter b54\n",
            "109\n"
          ]
        }
      ]
    },
    {
      "cell_type": "code",
      "source": [
        "d=input(\"enter a char\")[0]\n",
        "print(d)"
      ],
      "metadata": {
        "colab": {
          "base_uri": "https://localhost:8080/"
        },
        "id": "qcIxFeHluuDR",
        "outputId": "70301cd5-147c-41e1-88d6-9c0e5a13a0ef"
      },
      "execution_count": null,
      "outputs": [
        {
          "output_type": "stream",
          "name": "stdout",
          "text": [
            "enter a charrakeen\n",
            "r\n"
          ]
        }
      ]
    },
    {
      "cell_type": "code",
      "source": [
        "r=eval(input(\"expression\"))\n",
        "print(r)"
      ],
      "metadata": {
        "colab": {
          "base_uri": "https://localhost:8080/"
        },
        "id": "LZd_xDDiuzAs",
        "outputId": "5645ebde-5198-4592-84e1-0c8878fd401e"
      },
      "execution_count": null,
      "outputs": [
        {
          "output_type": "stream",
          "name": "stdout",
          "text": [
            "expression5+6+9*2\n",
            "29\n"
          ]
        }
      ]
    },
    {
      "cell_type": "code",
      "source": [
        "n=[55,56,87]\n",
        "n[0:]"
      ],
      "metadata": {
        "colab": {
          "base_uri": "https://localhost:8080/"
        },
        "id": "No9Q2aUhu80m",
        "outputId": "da7524af-338a-4662-d812-696936aa04bc"
      },
      "execution_count": null,
      "outputs": [
        {
          "output_type": "execute_result",
          "data": {
            "text/plain": [
              "[55, 56, 87]"
            ]
          },
          "metadata": {},
          "execution_count": 31
        }
      ]
    },
    {
      "cell_type": "code",
      "source": [
        "n[2:]"
      ],
      "metadata": {
        "colab": {
          "base_uri": "https://localhost:8080/"
        },
        "id": "5ODKTBa0vCGf",
        "outputId": "db1c6100-b802-48e3-86f0-538c128db9fd"
      },
      "execution_count": null,
      "outputs": [
        {
          "output_type": "execute_result",
          "data": {
            "text/plain": [
              "[87]"
            ]
          },
          "metadata": {},
          "execution_count": 32
        }
      ]
    },
    {
      "cell_type": "code",
      "source": [
        "n.append(25)"
      ],
      "metadata": {
        "colab": {
          "base_uri": "https://localhost:8080/"
        },
        "id": "DcDf-t7zvEMz",
        "outputId": "13a14153-28d5-4d93-dc42-5752c5af3c85"
      },
      "execution_count": null,
      "outputs": [
        {
          "output_type": "execute_result",
          "data": {
            "text/plain": [
              "[55, 56, 87, 25, 25]"
            ]
          },
          "metadata": {},
          "execution_count": 34
        }
      ]
    },
    {
      "cell_type": "code",
      "source": [
        "a=['rakeen','harmain','khan']\n",
        "b=[n,a]\n",
        "b"
      ],
      "metadata": {
        "colab": {
          "base_uri": "https://localhost:8080/"
        },
        "id": "4laAO8KRvQQv",
        "outputId": "60bda954-5085-45e5-da9e-b7a4be461a7c"
      },
      "execution_count": null,
      "outputs": [
        {
          "output_type": "execute_result",
          "data": {
            "text/plain": [
              "[[55, 56, 87, 25, 25], ['rakeen', 'harmain', 'khan']]"
            ]
          },
          "metadata": {},
          "execution_count": 35
        }
      ]
    },
    {
      "cell_type": "code",
      "source": [
        "n.insert(2,8)\n",
        "b"
      ],
      "metadata": {
        "colab": {
          "base_uri": "https://localhost:8080/"
        },
        "id": "lsuMN7GXvUcU",
        "outputId": "3054fdd1-126c-4084-ae41-00cb90d4a814"
      },
      "execution_count": null,
      "outputs": [
        {
          "output_type": "execute_result",
          "data": {
            "text/plain": [
              "[[55, 56, 8, 87, 25, 25], ['rakeen', 'harmain', 'khan']]"
            ]
          },
          "metadata": {},
          "execution_count": 36
        }
      ]
    },
    {
      "cell_type": "code",
      "source": [
        "n.remove(8)\n",
        "b"
      ],
      "metadata": {
        "colab": {
          "base_uri": "https://localhost:8080/"
        },
        "id": "ejZq76uIvfBL",
        "outputId": "3d615ebd-889d-4f9d-c8e0-62925184d1ea"
      },
      "execution_count": null,
      "outputs": [
        {
          "output_type": "execute_result",
          "data": {
            "text/plain": [
              "[[55, 56, 87, 25, 25], ['rakeen', 'harmain', 'khan']]"
            ]
          },
          "metadata": {},
          "execution_count": 37
        }
      ]
    },
    {
      "cell_type": "code",
      "source": [
        "n.pop(3)\n",
        "b"
      ],
      "metadata": {
        "colab": {
          "base_uri": "https://localhost:8080/"
        },
        "id": "wnL1U8ksvgUj",
        "outputId": "e3c127f0-af6f-4d55-8ae0-80cd38aecc2e"
      },
      "execution_count": null,
      "outputs": [
        {
          "output_type": "execute_result",
          "data": {
            "text/plain": [
              "[[55, 56, 87, 25], ['rakeen', 'harmain', 'khan']]"
            ]
          },
          "metadata": {},
          "execution_count": 38
        }
      ]
    },
    {
      "cell_type": "code",
      "source": [
        "n.extend([98,65])\n",
        "b"
      ],
      "metadata": {
        "colab": {
          "base_uri": "https://localhost:8080/"
        },
        "id": "wMijkYMhvufb",
        "outputId": "4f7a012d-733c-4119-bf60-46a7c69e4679"
      },
      "execution_count": null,
      "outputs": [
        {
          "output_type": "execute_result",
          "data": {
            "text/plain": [
              "[[55, 56, 87, 25, 98, 65], ['rakeen', 'harmain', 'khan']]"
            ]
          },
          "metadata": {},
          "execution_count": 39
        }
      ]
    },
    {
      "cell_type": "code",
      "source": [
        "print(max(n))\n",
        "print(min(n))\n",
        "print(sum(n))\n",
        "n.sort()\n",
        "print(n)"
      ],
      "metadata": {
        "colab": {
          "base_uri": "https://localhost:8080/"
        },
        "id": "UCStRjYzvutL",
        "outputId": "5331707d-1109-48b5-b94f-07313a0ac41a"
      },
      "execution_count": null,
      "outputs": [
        {
          "output_type": "stream",
          "name": "stdout",
          "text": [
            "98\n",
            "25\n",
            "386\n",
            "[25, 55, 56, 65, 87, 98]\n"
          ]
        }
      ]
    },
    {
      "cell_type": "code",
      "source": [
        "d={1:'rakeen',2:'harmain',3:'khan'}\n",
        "d"
      ],
      "metadata": {
        "colab": {
          "base_uri": "https://localhost:8080/"
        },
        "id": "2qe2BNcHwaoJ",
        "outputId": "29287ae9-d5b3-4067-f4e9-051e0ea48ded"
      },
      "execution_count": null,
      "outputs": [
        {
          "output_type": "execute_result",
          "data": {
            "text/plain": [
              "{1: 'rakeen', 2: 'harmain', 3: 'khan'}"
            ]
          },
          "metadata": {},
          "execution_count": 42
        }
      ]
    },
    {
      "cell_type": "code",
      "source": [
        "keys=[1,2,3]\n",
        "val=['rakeen','harmain','khan']\n",
        "dic= dict(zip(keys,val))\n",
        "dic"
      ],
      "metadata": {
        "colab": {
          "base_uri": "https://localhost:8080/"
        },
        "id": "vJ79gsYBwdQ3",
        "outputId": "063ef66b-aca4-4a5b-c918-67318468e222"
      },
      "execution_count": null,
      "outputs": [
        {
          "output_type": "execute_result",
          "data": {
            "text/plain": [
              "{1: 'rakeen', 2: 'harmain', 3: 'khan'}"
            ]
          },
          "metadata": {},
          "execution_count": 43
        }
      ]
    },
    {
      "cell_type": "code",
      "source": [
        "del dic[3]\n",
        "dic"
      ],
      "metadata": {
        "colab": {
          "base_uri": "https://localhost:8080/"
        },
        "id": "tcR8e4JhwwXg",
        "outputId": "6df4b970-8380-4652-be58-9106d9e9264a"
      },
      "execution_count": null,
      "outputs": [
        {
          "output_type": "execute_result",
          "data": {
            "text/plain": [
              "{1: 'rakeen', 2: 'harmain'}"
            ]
          },
          "metadata": {},
          "execution_count": 44
        }
      ]
    },
    {
      "cell_type": "code",
      "source": [
        "pr= {'js':'atom','python':['pycharm','spyder'],'java':{'jse':'netbeans','jee':'eclipse'}}\n",
        "pr"
      ],
      "metadata": {
        "colab": {
          "base_uri": "https://localhost:8080/"
        },
        "id": "PTqUG35PwzOS",
        "outputId": "fe1bc965-c041-4021-feae-337148d21b0e"
      },
      "execution_count": null,
      "outputs": [
        {
          "output_type": "execute_result",
          "data": {
            "text/plain": [
              "{'js': 'atom',\n",
              " 'python': ['pycharm', 'spyder'],\n",
              " 'java': {'jse': 'netbeans', 'jee': 'eclipse'}}"
            ]
          },
          "metadata": {},
          "execution_count": 45
        }
      ]
    },
    {
      "cell_type": "code",
      "source": [
        "pr['java']"
      ],
      "metadata": {
        "colab": {
          "base_uri": "https://localhost:8080/"
        },
        "id": "sA0la0Tiw18Q",
        "outputId": "fccbf81e-6ae3-431b-cc51-6a4b268d65a9"
      },
      "execution_count": null,
      "outputs": [
        {
          "output_type": "execute_result",
          "data": {
            "text/plain": [
              "{'jse': 'netbeans', 'jee': 'eclipse'}"
            ]
          },
          "metadata": {},
          "execution_count": 46
        }
      ]
    },
    {
      "cell_type": "code",
      "source": [
        "i,j=1,1\n",
        "while i<5:\n",
        "    print(\"hi \",end=\"\")\n",
        "    j=1\n",
        "    while j<4:\n",
        "        print(\"there \",end=\"\")\n",
        "        j+=1\n",
        "    i+=1\n",
        "    print(\"\")"
      ],
      "metadata": {
        "colab": {
          "base_uri": "https://localhost:8080/"
        },
        "id": "wZOgex7nw8qY",
        "outputId": "5288401a-87ec-429f-d77b-6626554b6688"
      },
      "execution_count": null,
      "outputs": [
        {
          "output_type": "stream",
          "name": "stdout",
          "text": [
            "hi there there there \n",
            "hi there there there \n",
            "hi there there there \n",
            "hi there there there \n"
          ]
        }
      ]
    },
    {
      "cell_type": "code",
      "source": [
        "n=[12,54,21,10,20]\n",
        "for i in n:\n",
        "    if i%5==0:\n",
        "        print(i)\n",
        "        break\n",
        "else:\n",
        "    print(\"not found\")"
      ],
      "metadata": {
        "colab": {
          "base_uri": "https://localhost:8080/"
        },
        "id": "saoI8S32xHrg",
        "outputId": "53d63763-9087-4f3f-95f4-fa53b1d365af"
      },
      "execution_count": null,
      "outputs": [
        {
          "output_type": "stream",
          "name": "stdout",
          "text": [
            "10\n"
          ]
        }
      ]
    },
    {
      "cell_type": "code",
      "source": [
        "from array import *\n",
        "val = array('i',[5,9,6,-6,8])\n",
        "val.reverse()\n",
        "print(val)"
      ],
      "metadata": {
        "colab": {
          "base_uri": "https://localhost:8080/"
        },
        "id": "Nu4hqruRxJvU",
        "outputId": "2538bc34-b3d4-4293-d7e1-3be94ea9cb6f"
      },
      "execution_count": null,
      "outputs": [
        {
          "output_type": "stream",
          "name": "stdout",
          "text": [
            "array('i', [8, -6, 6, 9, 5])\n"
          ]
        }
      ]
    },
    {
      "cell_type": "code",
      "source": [
        "from array import *\n",
        "val = array('i',[5,9,6,-6,8])\n",
        "\n",
        "for i in range(len(val)):\n",
        "    print(val[i])"
      ],
      "metadata": {
        "colab": {
          "base_uri": "https://localhost:8080/"
        },
        "id": "cK4Y_MMixLp8",
        "outputId": "23daa729-1e68-4931-d429-d3328b3be3f6"
      },
      "execution_count": null,
      "outputs": [
        {
          "output_type": "stream",
          "name": "stdout",
          "text": [
            "5\n",
            "9\n",
            "6\n",
            "-6\n",
            "8\n"
          ]
        }
      ]
    },
    {
      "cell_type": "code",
      "source": [
        "from array import *\n",
        "val = array('i',[5,9,6,-6,8])\n",
        "new=array(val.typecode, (a*a for a in val))\n",
        "i=0\n",
        "while i<len(new):\n",
        "    print(new[i])\n",
        "    i+=1"
      ],
      "metadata": {
        "colab": {
          "base_uri": "https://localhost:8080/"
        },
        "id": "5WKoDLKOxMkV",
        "outputId": "2e849dab-e6d4-4007-9352-f387a5db7597"
      },
      "execution_count": null,
      "outputs": [
        {
          "output_type": "stream",
          "name": "stdout",
          "text": [
            "25\n",
            "81\n",
            "36\n",
            "36\n",
            "64\n"
          ]
        }
      ]
    },
    {
      "cell_type": "code",
      "source": [
        "from numpy import *\n",
        "ar=array([12,23,34])\n",
        "print(ar)"
      ],
      "metadata": {
        "colab": {
          "base_uri": "https://localhost:8080/"
        },
        "id": "pmIuMzM5xWlf",
        "outputId": "ee9ebae6-c7a4-4575-cb76-07d03f3bedf0"
      },
      "execution_count": null,
      "outputs": [
        {
          "output_type": "stream",
          "name": "stdout",
          "text": [
            "[12 23 34]\n"
          ]
        }
      ]
    },
    {
      "cell_type": "code",
      "source": [
        "from numpy import *\n",
        "ar=linspace(0,5)\n",
        "print(ar)"
      ],
      "metadata": {
        "colab": {
          "base_uri": "https://localhost:8080/"
        },
        "id": "AJKrPGP8xiiZ",
        "outputId": "a98fa957-4b47-42a0-c50e-b58825190c77"
      },
      "execution_count": null,
      "outputs": [
        {
          "output_type": "stream",
          "name": "stdout",
          "text": [
            "[0.         0.10204082 0.20408163 0.30612245 0.40816327 0.51020408\n",
            " 0.6122449  0.71428571 0.81632653 0.91836735 1.02040816 1.12244898\n",
            " 1.2244898  1.32653061 1.42857143 1.53061224 1.63265306 1.73469388\n",
            " 1.83673469 1.93877551 2.04081633 2.14285714 2.24489796 2.34693878\n",
            " 2.44897959 2.55102041 2.65306122 2.75510204 2.85714286 2.95918367\n",
            " 3.06122449 3.16326531 3.26530612 3.36734694 3.46938776 3.57142857\n",
            " 3.67346939 3.7755102  3.87755102 3.97959184 4.08163265 4.18367347\n",
            " 4.28571429 4.3877551  4.48979592 4.59183673 4.69387755 4.79591837\n",
            " 4.89795918 5.        ]\n"
          ]
        }
      ]
    },
    {
      "cell_type": "code",
      "source": [
        "from numpy import *\n",
        "ar=arange(0,11,2)\n",
        "print(ar)"
      ],
      "metadata": {
        "colab": {
          "base_uri": "https://localhost:8080/"
        },
        "id": "wdQM8ngSxmrx",
        "outputId": "e34ab7af-7679-42fa-808f-dece46601473"
      },
      "execution_count": null,
      "outputs": [
        {
          "output_type": "stream",
          "name": "stdout",
          "text": [
            "[ 0  2  4  6  8 10]\n"
          ]
        }
      ]
    },
    {
      "cell_type": "code",
      "source": [
        "from numpy import *\n",
        "ar=logspace(0,11,5)\n",
        "print(ar)"
      ],
      "metadata": {
        "colab": {
          "base_uri": "https://localhost:8080/"
        },
        "id": "1B8tjzxbxowT",
        "outputId": "7a5167fd-e433-4dcc-d430-ae28a9d23dc5"
      },
      "execution_count": null,
      "outputs": [
        {
          "output_type": "stream",
          "name": "stdout",
          "text": [
            "[1.00000000e+00 5.62341325e+02 3.16227766e+05 1.77827941e+08\n",
            " 1.00000000e+11]\n"
          ]
        }
      ]
    },
    {
      "cell_type": "code",
      "source": [
        "from numpy import *\n",
        "ar1= array([\n",
        "    [1,2,3,4,5,6],\n",
        "    [7,8,9,10,11,12]\n",
        "])\n",
        "ar2=ar1.flatten()\n",
        "ar3=ar2.reshape(2,2,3)\n",
        "print(ar2,\"\\n\")\n",
        "print(ar3)"
      ],
      "metadata": {
        "colab": {
          "base_uri": "https://localhost:8080/"
        },
        "id": "QZ7ieHo4xrWV",
        "outputId": "fa4a7994-2433-4cff-a4e7-ff3cb80cdc8c"
      },
      "execution_count": null,
      "outputs": [
        {
          "output_type": "stream",
          "name": "stdout",
          "text": [
            "[ 1  2  3  4  5  6  7  8  9 10 11 12] \n",
            "\n",
            "[[[ 1  2  3]\n",
            "  [ 4  5  6]]\n",
            "\n",
            " [[ 7  8  9]\n",
            "  [10 11 12]]]\n"
          ]
        }
      ]
    },
    {
      "cell_type": "code",
      "source": [
        "m=matrix('1 2 3;3 4 4;4 5 6')\n",
        "print(m)\n",
        "print(diagonal(m))\n",
        "print(m.max())"
      ],
      "metadata": {
        "colab": {
          "base_uri": "https://localhost:8080/"
        },
        "id": "CyqCnQqCxtNi",
        "outputId": "d8a2d9c0-43a0-4158-8b06-d0ea5db15981"
      },
      "execution_count": null,
      "outputs": [
        {
          "output_type": "stream",
          "name": "stdout",
          "text": [
            "[[1 2 3]\n",
            " [3 4 4]\n",
            " [4 5 6]]\n",
            "[1 4 6]\n",
            "6\n"
          ]
        }
      ]
    },
    {
      "cell_type": "code",
      "source": [
        "def add(a,b,c):\n",
        "    c=a+b+c\n",
        "    return c\n",
        "result =add(5,8,5)\n",
        "print(result)"
      ],
      "metadata": {
        "colab": {
          "base_uri": "https://localhost:8080/"
        },
        "id": "XpYQBiqfxvy6",
        "outputId": "1c728307-37e6-4cfb-85df-7a80068fb4ea"
      },
      "execution_count": null,
      "outputs": [
        {
          "output_type": "stream",
          "name": "stdout",
          "text": [
            "18\n"
          ]
        }
      ]
    },
    {
      "cell_type": "code",
      "source": [
        "def add(*b):\n",
        "    c=0\n",
        "    for i in b:\n",
        "        c+=i\n",
        "    return c\n",
        "result =add(5,8,5)\n",
        "print(result)"
      ],
      "metadata": {
        "colab": {
          "base_uri": "https://localhost:8080/"
        },
        "id": "o98S4cGRxygU",
        "outputId": "061851ee-4b46-47af-d474-82d1470ede01"
      },
      "execution_count": null,
      "outputs": [
        {
          "output_type": "stream",
          "name": "stdout",
          "text": [
            "18\n"
          ]
        }
      ]
    },
    {
      "cell_type": "code",
      "source": [
        "a=10\n",
        "\n",
        "def fun():\n",
        "    a=9\n",
        "    x=globals()['a']\n",
        "    print(x,a)\n",
        "    globals()['a']=12\n",
        "    print(a)\n",
        "fun()\n",
        "print(a)"
      ],
      "metadata": {
        "colab": {
          "base_uri": "https://localhost:8080/"
        },
        "id": "S5RWQ_t9x2G_",
        "outputId": "5633c674-c4a3-4092-81e9-113bedd33b70"
      },
      "execution_count": null,
      "outputs": [
        {
          "output_type": "stream",
          "name": "stdout",
          "text": [
            "10 9\n",
            "9\n",
            "12\n"
          ]
        }
      ]
    },
    {
      "cell_type": "code",
      "source": [
        "l= lambda a: a*a\n",
        "result =l(6)\n",
        "print(result)"
      ],
      "metadata": {
        "colab": {
          "base_uri": "https://localhost:8080/"
        },
        "id": "PrWR1KL-x4nZ",
        "outputId": "a323e67a-c6eb-4d5a-edb5-7f36fedbdc48"
      },
      "execution_count": null,
      "outputs": [
        {
          "output_type": "stream",
          "name": "stdout",
          "text": [
            "36\n"
          ]
        }
      ]
    },
    {
      "cell_type": "code",
      "source": [
        "num=[1,2,3,4,5,6]\n",
        "even=list(filter(lambda n: n%2==0,num))\n",
        "print(even)"
      ],
      "metadata": {
        "colab": {
          "base_uri": "https://localhost:8080/"
        },
        "id": "0VApZ8Hix6Uz",
        "outputId": "1a0809d7-6045-49a6-a0c3-43cb76bc7052"
      },
      "execution_count": null,
      "outputs": [
        {
          "output_type": "stream",
          "name": "stdout",
          "text": [
            "[2, 4, 6]\n"
          ]
        }
      ]
    },
    {
      "cell_type": "code",
      "source": [
        "num=[1,2,3,4,5,6]\n",
        "even=list(filter(lambda n: n%2==0,num))\n",
        "double=list(map(lambda n:n*2,even))\n",
        "print(even)\n",
        "print(double)"
      ],
      "metadata": {
        "colab": {
          "base_uri": "https://localhost:8080/"
        },
        "id": "cKq-fDWux7oN",
        "outputId": "b8bf37ff-a5b1-4fb1-a558-b759560d965a"
      },
      "execution_count": null,
      "outputs": [
        {
          "output_type": "stream",
          "name": "stdout",
          "text": [
            "[2, 4, 6]\n",
            "[4, 8, 12]\n"
          ]
        }
      ]
    },
    {
      "cell_type": "code",
      "source": [
        "from functools import reduce\n",
        "num=[1,2,3,4,5,6]\n",
        "even=list(filter(lambda n: n%2==0,num))\n",
        "double=list(map(lambda n:n*2,even))\n",
        "add =reduce(lambda a,b:a+b,double)\n",
        "print(even)\n",
        "print(double)\n",
        "print(add)"
      ],
      "metadata": {
        "colab": {
          "base_uri": "https://localhost:8080/"
        },
        "id": "2rT8YVCWx-k8",
        "outputId": "afd9bb2a-2d2d-40d8-cdee-e752fd7bdae0"
      },
      "execution_count": null,
      "outputs": [
        {
          "output_type": "stream",
          "name": "stdout",
          "text": [
            "[2, 4, 6]\n",
            "[4, 8, 12]\n",
            "24\n"
          ]
        }
      ]
    },
    {
      "cell_type": "code",
      "source": [
        "def div(a,b):\n",
        "    print(a/b)\n",
        "    \n",
        "def div1(func):\n",
        "    def inside(a,b):\n",
        "        if a<b:\n",
        "            a,b=b,a\n",
        "        return func(a,b)\n",
        "    return inside\n",
        "div = div1(div)\n",
        "div(2,4)"
      ],
      "metadata": {
        "colab": {
          "base_uri": "https://localhost:8080/"
        },
        "id": "_3b-Rxp0yBHD",
        "outputId": "19730c8a-f356-46ed-afee-b58ceb1d00d3"
      },
      "execution_count": null,
      "outputs": [
        {
          "output_type": "stream",
          "name": "stdout",
          "text": [
            "2.0\n"
          ]
        }
      ]
    },
    {
      "cell_type": "code",
      "source": [
        "class computer:\n",
        "        def __init__(self):\n",
        "            self.name='rakeen'\n",
        "            self.age=20\n",
        "        \n",
        "        def compare(self,other):\n",
        "            if self.age==other.age:\n",
        "                return True\n",
        "            else: \n",
        "                return False\n",
        "\n",
        "c1=computer()\n",
        "c2=computer()\n",
        "\n",
        "if c1.compare(c2):\n",
        "    print(\"same\")\n",
        "else:\n",
        "    print(\"different\")\n",
        "    \n",
        "print(c1.name)\n",
        "print(c2.name)"
      ],
      "metadata": {
        "colab": {
          "base_uri": "https://localhost:8080/"
        },
        "id": "1KqUT7WcyEp0",
        "outputId": "aeb7de3e-8029-452a-9ff8-981f363835e5"
      },
      "execution_count": null,
      "outputs": [
        {
          "output_type": "stream",
          "name": "stdout",
          "text": [
            "same\n",
            "rakeen\n",
            "rakeen\n"
          ]
        }
      ]
    },
    {
      "cell_type": "code",
      "source": [
        "class schl:\n",
        "    school='pesit'\n",
        "    \n",
        "    def __init__(self,m1,m2,m3):\n",
        "        self.m1=m1\n",
        "        self.m2=m2\n",
        "        self.m3=m3\n",
        "    \n",
        "    def avg(self):\n",
        "        return (self.m1+self.m2+self.m3)/3\n",
        "    \n",
        "    @classmethod \n",
        "    def info(cls):\n",
        "        return cls.school\n",
        "    @staticmethod\n",
        "    def new():\n",
        "        print(\"Static\")\n",
        "    \n",
        "c1=schl(10,20,30)\n",
        "\n",
        "print(c1.avg())\n",
        "print(schl.info())\n",
        "schl.new()"
      ],
      "metadata": {
        "colab": {
          "base_uri": "https://localhost:8080/"
        },
        "id": "yb9cuGZ0yG3-",
        "outputId": "8ee58ccd-6a3b-41ca-a631-b1278514920f"
      },
      "execution_count": null,
      "outputs": [
        {
          "output_type": "stream",
          "name": "stdout",
          "text": [
            "20.0\n",
            "pesit\n",
            "Static\n"
          ]
        }
      ]
    },
    {
      "cell_type": "code",
      "source": [
        "class stud:\n",
        "    def __init__(self,nm, roll):\n",
        "        self.nm=nm\n",
        "        self.roll=roll\n",
        "        self.lap=self.lappy()\n",
        "        \n",
        "    def show(self):\n",
        "        print(self.nm, self.roll)\n",
        "        self.lap.show()\n",
        "        \n",
        "    class lappy:\n",
        "        def __init__(self):\n",
        "            self.brand= 'asus'\n",
        "            self.ram=16\n",
        "        \n",
        "        def show(self):\n",
        "            print(self.brand, self.ram)    \n",
        "        \n",
        "        \n",
        "        \n",
        "s1=stud('rakeen', 32)\n",
        "\n",
        "l1=stud.lappy()\n",
        "\n",
        "s1.show()\n",
        "l1.show()"
      ],
      "metadata": {
        "colab": {
          "base_uri": "https://localhost:8080/"
        },
        "id": "5Ak5S5JXyQLS",
        "outputId": "7190666e-5d2f-433e-fd6d-d7bcaceca679"
      },
      "execution_count": null,
      "outputs": [
        {
          "output_type": "stream",
          "name": "stdout",
          "text": [
            "rakeen 32\n",
            "asus 16\n",
            "asus 16\n"
          ]
        }
      ]
    },
    {
      "cell_type": "code",
      "source": [
        "class A:\n",
        "    def feature1(self):\n",
        "        print(\"Feature 1 works\")\n",
        "    \n",
        "    def feature2(self):\n",
        "        print(\"Feature 2 works\")\n",
        "\n",
        "        \n",
        "\n",
        "class B(A):\n",
        "    def feature3(self):\n",
        "        print(\"Feature 3 works\")\n",
        "    \n",
        "    def feature4(self):\n",
        "        print(\"Feature 4 works\")  \n",
        "        \n",
        "        \n",
        "a1=A()\n",
        "\n",
        "b1=B()\n",
        "\n",
        "a1.feature1()\n",
        "a1.feature2()\n",
        "\n",
        "b1.feature1()\n",
        "b1.feature2()\n",
        "b1.feature3()\n",
        "b1.feature4()"
      ],
      "metadata": {
        "colab": {
          "base_uri": "https://localhost:8080/"
        },
        "id": "SpTYs4dHyTAu",
        "outputId": "d7df06d4-28c3-4cba-9d53-60dfdeda0b68"
      },
      "execution_count": null,
      "outputs": [
        {
          "output_type": "stream",
          "name": "stdout",
          "text": [
            "Feature 1 works\n",
            "Feature 2 works\n",
            "Feature 1 works\n",
            "Feature 2 works\n",
            "Feature 3 works\n",
            "Feature 4 works\n"
          ]
        }
      ]
    },
    {
      "cell_type": "code",
      "source": [
        "class A:\n",
        "    def feature1(self):\n",
        "        print(\"Feature 1 works\")\n",
        "    \n",
        "    def feature2(self):\n",
        "        print(\"Feature 2 works\")\n",
        "\n",
        "        \n",
        "\n",
        "class B:\n",
        "    def feature3(self):\n",
        "        print(\"Feature 3 works\")\n",
        "    \n",
        "    def feature4(self):\n",
        "        print(\"Feature 4 works\")  \n",
        "        \n",
        "class C(A,B):\n",
        "    def feature5(self):\n",
        "        print(\"Feature 5 works\")\n",
        "        \n",
        "        \n",
        "a1=A()\n",
        "\n",
        "b1=B()\n",
        "c1=C()\n",
        "a1.feature1()\n",
        "a1.feature2()\n",
        "\n",
        "\n",
        "b1.feature3()\n",
        "b1.feature4()\n",
        "\n",
        "c1.feature2()\n",
        "c1.feature4()\n",
        "c1.feature5()"
      ],
      "metadata": {
        "colab": {
          "base_uri": "https://localhost:8080/"
        },
        "id": "YQLmxdzOyVcT",
        "outputId": "3c302fd9-c078-4ad7-b140-782f91cf11b2"
      },
      "execution_count": null,
      "outputs": [
        {
          "output_type": "stream",
          "name": "stdout",
          "text": [
            "Feature 1 works\n",
            "Feature 2 works\n",
            "Feature 3 works\n",
            "Feature 4 works\n",
            "Feature 2 works\n",
            "Feature 4 works\n",
            "Feature 5 works\n"
          ]
        }
      ]
    },
    {
      "cell_type": "code",
      "source": [],
      "metadata": {
        "id": "9oAsu8vayXup"
      },
      "execution_count": null,
      "outputs": []
    },
    {
      "cell_type": "code",
      "source": [
        "class A:\n",
        "    def __init__(self):\n",
        "        print(\"A init\")\n",
        "    \n",
        "    def feature1(self):\n",
        "        print(\"Feature 1 works\")\n",
        "    \n",
        "    def feature2(self):\n",
        "        print(\"Feature 2 works\")\n",
        "\n",
        "        \n",
        "\n",
        "class B(A):\n",
        "    def __init__(self):\n",
        "        super().__init__()\n",
        "        print(\"B init\")\n",
        "    \n",
        "    def feature3(self):\n",
        "        print(\"Feature 3 works\")\n",
        "    \n",
        "    def feature4(self):\n",
        "        print(\"Feature 4 works\")  \n",
        "        \n",
        "        \n",
        "\n",
        "\n",
        "b1=B()\n",
        "\n"
      ],
      "metadata": {
        "colab": {
          "base_uri": "https://localhost:8080/"
        },
        "id": "i9728RpEyZDP",
        "outputId": "51c00b56-cb1d-42c3-e2a5-95c2e19a1b6f"
      },
      "execution_count": null,
      "outputs": [
        {
          "output_type": "stream",
          "name": "stdout",
          "text": [
            "A init\n",
            "B init\n"
          ]
        }
      ]
    },
    {
      "cell_type": "code",
      "source": [
        "class lappy:\n",
        "  def code(self,ide):\n",
        "    ide.execute()\n",
        "\n",
        "class core():\n",
        "  def execute(self):\n",
        "    print(\"compiling\")\n",
        "    print(\"executing\")\n",
        "\n",
        "class another():\n",
        "  def execute(self):\n",
        "    print(\"compiling (another)\")\n",
        "    print(\"executing (another)\")\n",
        "\n",
        "ide=core()\n",
        "\n",
        "l1=lappy()\n",
        "\n",
        "l1.code(ide)"
      ],
      "metadata": {
        "colab": {
          "base_uri": "https://localhost:8080/"
        },
        "id": "Pjqf9m47zlVz",
        "outputId": "a2566442-502a-4fa4-e61c-baa1c0e26fae"
      },
      "execution_count": null,
      "outputs": [
        {
          "output_type": "stream",
          "name": "stdout",
          "text": [
            "compiling\n",
            "executing\n"
          ]
        }
      ]
    },
    {
      "cell_type": "code",
      "source": [
        "class lappy:\n",
        "  def code(self,ide):\n",
        "    ide.execute()\n",
        "\n",
        "class core():\n",
        "  def execute(self):\n",
        "    print(\"compiling\")\n",
        "    print(\"executing\")\n",
        "\n",
        "class another():\n",
        "  def execute(self):\n",
        "    print(\"compiling (another)\")\n",
        "    print(\"executing (another)\")\n",
        "\n",
        "ide=another()\n",
        "\n",
        "l1=lappy()\n",
        "\n",
        "l1.code(ide)"
      ],
      "metadata": {
        "colab": {
          "base_uri": "https://localhost:8080/"
        },
        "id": "2GIcTomv0_qu",
        "outputId": "200a7977-7664-4691-d9dd-a2ac853a5f68"
      },
      "execution_count": null,
      "outputs": [
        {
          "output_type": "stream",
          "name": "stdout",
          "text": [
            "compiling (another)\n",
            "executing (another)\n"
          ]
        }
      ]
    },
    {
      "cell_type": "code",
      "source": [
        "class stud: \n",
        "  def __init__(self,m1,m2):\n",
        "    self.m1=m1\n",
        "    self.m2=m2\n",
        "\n",
        "  def __add__(self,other):\n",
        "    m1=self.m1+other.m1\n",
        "    m2=self.m2+other.m2\n",
        "    s3=stud(m1,m2)\n",
        "    return s3\n",
        "\n",
        "s1=stud(55,66)\n",
        "s2=stud(6,55)\n",
        "\n",
        "s3= s1 + s2\n",
        "\n",
        "print(s3.m1)"
      ],
      "metadata": {
        "colab": {
          "base_uri": "https://localhost:8080/"
        },
        "id": "Ykc-5KQ31mN6",
        "outputId": "81e05ca9-2877-4d60-cbfc-4390993290af"
      },
      "execution_count": null,
      "outputs": [
        {
          "output_type": "stream",
          "name": "stdout",
          "text": [
            "61\n"
          ]
        }
      ]
    },
    {
      "cell_type": "code",
      "source": [],
      "metadata": {
        "id": "S_xARDnR6uY1"
      },
      "execution_count": null,
      "outputs": []
    },
    {
      "cell_type": "code",
      "source": [
        "class stud: \n",
        "  def __init__(self,m1,m2):\n",
        "    self.m1=m1\n",
        "    self.m2=m2\n",
        "\n",
        "  def __add__(self,other):\n",
        "    m1=self.m1+other.m1\n",
        "    m2=self.m2+other.m2\n",
        "    s3=stud(m1,m2)\n",
        "    return s3\n",
        "\n",
        "  def __str__(self):\n",
        "    return self.m1,self.m2\n",
        "\n",
        "\n",
        "\n",
        "s1=stud(55,66)\n",
        "s2=stud(6,55)\n",
        "print(s1.__str__())\n"
      ],
      "metadata": {
        "colab": {
          "base_uri": "https://localhost:8080/"
        },
        "id": "AhHyMkZQ4Z4z",
        "outputId": "c0a80a84-c18f-4c6f-9df7-1083b81b9e05"
      },
      "execution_count": null,
      "outputs": [
        {
          "output_type": "stream",
          "name": "stdout",
          "text": [
            "(55, 66)\n"
          ]
        }
      ]
    },
    {
      "cell_type": "code",
      "source": [
        "class stud: \n",
        "  def __init__(self,m1,m2):\n",
        "    self.m1=m1\n",
        "    self.m2=m2\n",
        "\n",
        "  def sum(self,a=None,b=None,c=None):\n",
        "    s=0\n",
        "    if a!=None and b!=None and c!=None:\n",
        "      s=a+b+c\n",
        "    elif a!=None and b!=None:\n",
        "      s=a+b\n",
        "    else:\n",
        "      s=a\n",
        "\n",
        "    return s\n",
        "   \n",
        "\n",
        "s1=stud(55,66)\n",
        "print(s1.sum(55,5,4))"
      ],
      "metadata": {
        "colab": {
          "base_uri": "https://localhost:8080/"
        },
        "id": "bir0sldY7nSO",
        "outputId": "09b5b22c-0a76-4555-c8a8-ec95d381d97e"
      },
      "execution_count": null,
      "outputs": [
        {
          "output_type": "stream",
          "name": "stdout",
          "text": [
            "64\n"
          ]
        }
      ]
    },
    {
      "cell_type": "code",
      "source": [
        "class A:\n",
        "  def show(self):\n",
        "    print(\"A show\")\n",
        "\n",
        "class B(A):\n",
        "  def show(self):\n",
        "      print(\"B show\")\n",
        "\n",
        "a1=B()\n",
        "a1.show()"
      ],
      "metadata": {
        "colab": {
          "base_uri": "https://localhost:8080/"
        },
        "id": "KZ5NHZ-cBHuC",
        "outputId": "bcbe4d57-f2b6-49ec-d4cc-584dcbf24a83"
      },
      "execution_count": null,
      "outputs": [
        {
          "output_type": "stream",
          "name": "stdout",
          "text": [
            "B show\n"
          ]
        }
      ]
    },
    {
      "cell_type": "code",
      "source": [
        "from abc import ABC, abstractmethod\n",
        "\n",
        "class comp(ABC):\n",
        "  @abstractmethod\n",
        "  def process(self):\n",
        "    pass\n",
        "\n",
        "class lappy(comp):\n",
        "  def process(self):\n",
        "    print(\"Running\")\n",
        "    \n",
        "\n",
        "class prog:\n",
        "  def work(self,c1):\n",
        "    print(\"programming\")\n",
        "    c1.process()\n",
        "\n",
        "c=lappy()\n",
        "p=prog()\n",
        "p.work(c)\n",
        "#c.process()\n",
        "c.process()"
      ],
      "metadata": {
        "colab": {
          "base_uri": "https://localhost:8080/"
        },
        "id": "x1YLfBJsCCDA",
        "outputId": "3ea55a53-dc6b-464f-c38b-4d8fe194a77d"
      },
      "execution_count": null,
      "outputs": [
        {
          "output_type": "stream",
          "name": "stdout",
          "text": [
            "programming\n",
            "Running\n",
            "Running\n"
          ]
        }
      ]
    },
    {
      "cell_type": "code",
      "source": [
        "a=int(input(\"A: \"))\n",
        "b=int(input(\"B: \"))\n",
        "try: \n",
        "  print(\"Entered Try\")\n",
        "  print(a/b)\n",
        "  print(\"Operation performed\")\n",
        "  k=int(input(\"k:\"))\n",
        "  print(k)\n",
        "except Exception as e:\n",
        "  print(\"Cannot divide by 0\",e)"
      ],
      "metadata": {
        "colab": {
          "base_uri": "https://localhost:8080/"
        },
        "id": "LEMoNMn8K2oB",
        "outputId": "6e751526-2d23-4835-9d7b-6808b695d797"
      },
      "execution_count": null,
      "outputs": [
        {
          "output_type": "stream",
          "name": "stdout",
          "text": [
            "A: 5\n",
            "B: 2\n",
            "Entered Try\n",
            "2.5\n",
            "Operation performed\n",
            "k:p\n",
            "Cannot divide by 0 invalid literal for int() with base 10: 'p'\n"
          ]
        }
      ]
    },
    {
      "cell_type": "code",
      "source": [
        "a=int(input(\"A: \"))\n",
        "b=int(input(\"B: \"))\n",
        "try: \n",
        "  print(\"Entered Try\")\n",
        "  print(a/b)\n",
        "  print(\"Operation performed\")\n",
        "  k=int(input(\"k:\"))\n",
        "  print(k)\n",
        "except ZeroDivisionError as e:\n",
        "  print(\"Cannot divide by 0\",e)\n",
        "except ValueError as e:\n",
        "  print(\"Invalid Input\", e)\n",
        "finally:\n",
        "  print(\"Done\")"
      ],
      "metadata": {
        "colab": {
          "base_uri": "https://localhost:8080/"
        },
        "id": "fXja02nyLRPv",
        "outputId": "7a8937cb-9b67-47ba-c1ef-41047e422f7a"
      },
      "execution_count": null,
      "outputs": [
        {
          "output_type": "stream",
          "name": "stdout",
          "text": [
            "A: 5\n",
            "B: 5\n",
            "Entered Try\n",
            "1.0\n",
            "Operation performed\n",
            "k:q\n",
            "Invalid Input invalid literal for int() with base 10: 'q'\n",
            "Done\n"
          ]
        }
      ]
    },
    {
      "cell_type": "code",
      "source": [],
      "metadata": {
        "id": "JoumXJnDUamY"
      },
      "execution_count": null,
      "outputs": []
    },
    {
      "cell_type": "code",
      "source": [
        "from time import sleep\n",
        "from threading import *\n",
        "\n",
        "class USA(Thread):\n",
        "  def run(self):\n",
        "    for i in range(5):\n",
        "      print(\"America \")\n",
        "      sleep(1)\n",
        "\n",
        "class UK(Thread):\n",
        "  def run(self):\n",
        "    for i in range(5):\n",
        "      print(\"British\")\n",
        "      sleep(1)\n",
        "\n",
        "t1=USA()\n",
        "t2=UK()\n",
        "t1.start()\n",
        "sleep(0.2)\n",
        "t2.start()\n",
        "t1.join()\n",
        "t2.join()"
      ],
      "metadata": {
        "colab": {
          "base_uri": "https://localhost:8080/"
        },
        "id": "4_jWZ0fNNGq-",
        "outputId": "a31bce1b-55bb-4a21-8fd2-de693bcb50da"
      },
      "execution_count": null,
      "outputs": [
        {
          "output_type": "stream",
          "name": "stdout",
          "text": [
            "America \n",
            "British\n",
            "America \n",
            "British\n",
            "America \n",
            "British\n",
            "America \n",
            "British\n",
            "America \n",
            "British\n"
          ]
        }
      ]
    },
    {
      "cell_type": "code",
      "source": [
        "file = '/content/drive/MyDrive/Notepad.txt'\n",
        "\n",
        "with open(file, 'w') as file:\n",
        "    file.write(\"Everyone is a villain in a poorly told story.\")\n"
      ],
      "metadata": {
        "id": "YcuAd74oEOXN"
      },
      "execution_count": null,
      "outputs": []
    },
    {
      "cell_type": "code",
      "source": [
        "file = '/content/drive/MyDrive/Notepad.txt'\n",
        "\n",
        "with open(file, 'r') as file:\n",
        "    content = file.read()\n",
        "    print(content)"
      ],
      "metadata": {
        "colab": {
          "base_uri": "https://localhost:8080/"
        },
        "id": "PGh-NTbTE2MY",
        "outputId": "6ac503b0-8f06-42d3-a5f0-59d39f395fbb"
      },
      "execution_count": null,
      "outputs": [
        {
          "output_type": "stream",
          "name": "stdout",
          "text": [
            "Everyone is a villain in a poorly told story.\n"
          ]
        }
      ]
    }
  ]
}